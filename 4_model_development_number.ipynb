{
 "cells": [
  {
   "cell_type": "code",
   "execution_count": 1,
   "metadata": {},
   "outputs": [
    {
     "data": {
      "text/html": [
       "<div>\n",
       "<style scoped>\n",
       "    .dataframe tbody tr th:only-of-type {\n",
       "        vertical-align: middle;\n",
       "    }\n",
       "\n",
       "    .dataframe tbody tr th {\n",
       "        vertical-align: top;\n",
       "    }\n",
       "\n",
       "    .dataframe thead th {\n",
       "        text-align: right;\n",
       "    }\n",
       "</style>\n",
       "<table border=\"1\" class=\"dataframe\">\n",
       "  <thead>\n",
       "    <tr style=\"text-align: right;\">\n",
       "      <th></th>\n",
       "      <th>property_type</th>\n",
       "      <th>price</th>\n",
       "      <th>location</th>\n",
       "      <th>city</th>\n",
       "      <th>baths</th>\n",
       "      <th>purpose</th>\n",
       "      <th>bedrooms</th>\n",
       "      <th>Area_in_Marla</th>\n",
       "    </tr>\n",
       "  </thead>\n",
       "  <tbody>\n",
       "    <tr>\n",
       "      <th>0</th>\n",
       "      <td>Flat</td>\n",
       "      <td>10000000</td>\n",
       "      <td>G-10</td>\n",
       "      <td>Islamabad</td>\n",
       "      <td>2</td>\n",
       "      <td>For Sale</td>\n",
       "      <td>2</td>\n",
       "      <td>4.0</td>\n",
       "    </tr>\n",
       "    <tr>\n",
       "      <th>1</th>\n",
       "      <td>Flat</td>\n",
       "      <td>6900000</td>\n",
       "      <td>E-11</td>\n",
       "      <td>Islamabad</td>\n",
       "      <td>3</td>\n",
       "      <td>For Sale</td>\n",
       "      <td>3</td>\n",
       "      <td>5.6</td>\n",
       "    </tr>\n",
       "    <tr>\n",
       "      <th>2</th>\n",
       "      <td>House</td>\n",
       "      <td>16500000</td>\n",
       "      <td>G-15</td>\n",
       "      <td>Islamabad</td>\n",
       "      <td>6</td>\n",
       "      <td>For Sale</td>\n",
       "      <td>5</td>\n",
       "      <td>8.0</td>\n",
       "    </tr>\n",
       "    <tr>\n",
       "      <th>3</th>\n",
       "      <td>House</td>\n",
       "      <td>43500000</td>\n",
       "      <td>Bani Gala</td>\n",
       "      <td>Islamabad</td>\n",
       "      <td>4</td>\n",
       "      <td>For Sale</td>\n",
       "      <td>4</td>\n",
       "      <td>40.0</td>\n",
       "    </tr>\n",
       "    <tr>\n",
       "      <th>4</th>\n",
       "      <td>House</td>\n",
       "      <td>7000000</td>\n",
       "      <td>DHA Defence</td>\n",
       "      <td>Islamabad</td>\n",
       "      <td>3</td>\n",
       "      <td>For Sale</td>\n",
       "      <td>3</td>\n",
       "      <td>8.0</td>\n",
       "    </tr>\n",
       "    <tr>\n",
       "      <th>...</th>\n",
       "      <td>...</td>\n",
       "      <td>...</td>\n",
       "      <td>...</td>\n",
       "      <td>...</td>\n",
       "      <td>...</td>\n",
       "      <td>...</td>\n",
       "      <td>...</td>\n",
       "      <td>...</td>\n",
       "    </tr>\n",
       "    <tr>\n",
       "      <th>168435</th>\n",
       "      <td>Flat</td>\n",
       "      <td>7500000</td>\n",
       "      <td>Bahria Town Karachi</td>\n",
       "      <td>Karachi</td>\n",
       "      <td>3</td>\n",
       "      <td>For Sale</td>\n",
       "      <td>3</td>\n",
       "      <td>8.0</td>\n",
       "    </tr>\n",
       "    <tr>\n",
       "      <th>168436</th>\n",
       "      <td>House</td>\n",
       "      <td>8800000</td>\n",
       "      <td>Bahria Town Karachi</td>\n",
       "      <td>Karachi</td>\n",
       "      <td>4</td>\n",
       "      <td>For Sale</td>\n",
       "      <td>3</td>\n",
       "      <td>8.0</td>\n",
       "    </tr>\n",
       "    <tr>\n",
       "      <th>168438</th>\n",
       "      <td>House</td>\n",
       "      <td>14000000</td>\n",
       "      <td>Bahria Town Karachi</td>\n",
       "      <td>Karachi</td>\n",
       "      <td>3</td>\n",
       "      <td>For Sale</td>\n",
       "      <td>3</td>\n",
       "      <td>8.0</td>\n",
       "    </tr>\n",
       "    <tr>\n",
       "      <th>168439</th>\n",
       "      <td>House</td>\n",
       "      <td>14000000</td>\n",
       "      <td>Bahria Town Karachi</td>\n",
       "      <td>Karachi</td>\n",
       "      <td>4</td>\n",
       "      <td>For Sale</td>\n",
       "      <td>4</td>\n",
       "      <td>14.0</td>\n",
       "    </tr>\n",
       "    <tr>\n",
       "      <th>168445</th>\n",
       "      <td>House</td>\n",
       "      <td>9000000</td>\n",
       "      <td>Bahria Town Karachi</td>\n",
       "      <td>Karachi</td>\n",
       "      <td>3</td>\n",
       "      <td>For Sale</td>\n",
       "      <td>3</td>\n",
       "      <td>9.4</td>\n",
       "    </tr>\n",
       "  </tbody>\n",
       "</table>\n",
       "<p>99499 rows × 8 columns</p>\n",
       "</div>"
      ],
      "text/plain": [
       "       property_type     price             location       city  baths  \\\n",
       "0               Flat  10000000                 G-10  Islamabad      2   \n",
       "1               Flat   6900000                 E-11  Islamabad      3   \n",
       "2              House  16500000                 G-15  Islamabad      6   \n",
       "3              House  43500000            Bani Gala  Islamabad      4   \n",
       "4              House   7000000          DHA Defence  Islamabad      3   \n",
       "...              ...       ...                  ...        ...    ...   \n",
       "168435          Flat   7500000  Bahria Town Karachi    Karachi      3   \n",
       "168436         House   8800000  Bahria Town Karachi    Karachi      4   \n",
       "168438         House  14000000  Bahria Town Karachi    Karachi      3   \n",
       "168439         House  14000000  Bahria Town Karachi    Karachi      4   \n",
       "168445         House   9000000  Bahria Town Karachi    Karachi      3   \n",
       "\n",
       "         purpose  bedrooms  Area_in_Marla  \n",
       "0       For Sale         2            4.0  \n",
       "1       For Sale         3            5.6  \n",
       "2       For Sale         5            8.0  \n",
       "3       For Sale         4           40.0  \n",
       "4       For Sale         3            8.0  \n",
       "...          ...       ...            ...  \n",
       "168435  For Sale         3            8.0  \n",
       "168436  For Sale         3            8.0  \n",
       "168438  For Sale         3            8.0  \n",
       "168439  For Sale         4           14.0  \n",
       "168445  For Sale         3            9.4  \n",
       "\n",
       "[99499 rows x 8 columns]"
      ]
     },
     "execution_count": 1,
     "metadata": {},
     "output_type": "execute_result"
    }
   ],
   "source": [
    "import pandas as pd\n",
    "\n",
    "data = pd.read_csv(\"house_prices.csv\", index_col=0)\n",
    "data"
   ]
  },
  {
   "cell_type": "code",
   "execution_count": 2,
   "metadata": {},
   "outputs": [
    {
     "data": {
      "text/plain": [
       "(69649, 14925, 14925)"
      ]
     },
     "execution_count": 2,
     "metadata": {},
     "output_type": "execute_result"
    }
   ],
   "source": [
    "from sklearn.model_selection import train_test_split\n",
    "\n",
    "train_data, test_data = train_test_split(data, test_size=0.3, random_state=0)\n",
    "valid_data, test_data = train_test_split(test_data, test_size=0.5, random_state=0)\n",
    "train_data.shape[0], valid_data.shape[0], test_data.shape[0]"
   ]
  },
  {
   "cell_type": "code",
   "execution_count": 3,
   "metadata": {},
   "outputs": [
    {
     "data": {
      "text/plain": [
       "44749     1\n",
       "128534    4\n",
       "29224     2\n",
       "89063     0\n",
       "42944     1\n",
       "         ..\n",
       "30618     0\n",
       "69578     2\n",
       "64395     3\n",
       "65830     4\n",
       "108078    4\n",
       "Name: price, Length: 69649, dtype: int32"
      ]
     },
     "execution_count": 3,
     "metadata": {},
     "output_type": "execute_result"
    }
   ],
   "source": [
    "import numpy as np\n",
    "from sklearn.preprocessing import KBinsDiscretizer\n",
    "\n",
    "train_data[\"price\"] = np.log10(train_data[\"price\"])\n",
    "\n",
    "label_transformer = KBinsDiscretizer(n_bins=5, encode=\"ordinal\", random_state=0)\n",
    "label_transformer.fit(train_data[[\"price\"]])\n",
    "\n",
    "train_data[\"price\"] = label_transformer.transform(train_data[[\"price\"]])\n",
    "train_data[\"price\"] = train_data[\"price\"].astype(int)\n",
    "train_data[\"price\"]"
   ]
  },
  {
   "cell_type": "code",
   "execution_count": 4,
   "metadata": {},
   "outputs": [
    {
     "data": {
      "text/html": [
       "<div>\n",
       "<style scoped>\n",
       "    .dataframe tbody tr th:only-of-type {\n",
       "        vertical-align: middle;\n",
       "    }\n",
       "\n",
       "    .dataframe tbody tr th {\n",
       "        vertical-align: top;\n",
       "    }\n",
       "\n",
       "    .dataframe thead th {\n",
       "        text-align: right;\n",
       "    }\n",
       "</style>\n",
       "<table border=\"1\" class=\"dataframe\">\n",
       "  <thead>\n",
       "    <tr style=\"text-align: right;\">\n",
       "      <th></th>\n",
       "      <th>baths</th>\n",
       "      <th>bedrooms</th>\n",
       "      <th>city</th>\n",
       "      <th>Area_in_Marla</th>\n",
       "    </tr>\n",
       "  </thead>\n",
       "  <tbody>\n",
       "    <tr>\n",
       "      <th>44749</th>\n",
       "      <td>2</td>\n",
       "      <td>2</td>\n",
       "      <td>Karachi</td>\n",
       "      <td>3.6</td>\n",
       "    </tr>\n",
       "    <tr>\n",
       "      <th>128534</th>\n",
       "      <td>5</td>\n",
       "      <td>5</td>\n",
       "      <td>Lahore</td>\n",
       "      <td>10.0</td>\n",
       "    </tr>\n",
       "    <tr>\n",
       "      <th>29224</th>\n",
       "      <td>3</td>\n",
       "      <td>4</td>\n",
       "      <td>Islamabad</td>\n",
       "      <td>7.0</td>\n",
       "    </tr>\n",
       "    <tr>\n",
       "      <th>89063</th>\n",
       "      <td>2</td>\n",
       "      <td>2</td>\n",
       "      <td>Islamabad</td>\n",
       "      <td>5.0</td>\n",
       "    </tr>\n",
       "    <tr>\n",
       "      <th>42944</th>\n",
       "      <td>2</td>\n",
       "      <td>2</td>\n",
       "      <td>Islamabad</td>\n",
       "      <td>3.6</td>\n",
       "    </tr>\n",
       "    <tr>\n",
       "      <th>...</th>\n",
       "      <td>...</td>\n",
       "      <td>...</td>\n",
       "      <td>...</td>\n",
       "      <td>...</td>\n",
       "    </tr>\n",
       "    <tr>\n",
       "      <th>30618</th>\n",
       "      <td>2</td>\n",
       "      <td>2</td>\n",
       "      <td>Islamabad</td>\n",
       "      <td>6.2</td>\n",
       "    </tr>\n",
       "    <tr>\n",
       "      <th>69578</th>\n",
       "      <td>2</td>\n",
       "      <td>2</td>\n",
       "      <td>Lahore</td>\n",
       "      <td>5.0</td>\n",
       "    </tr>\n",
       "    <tr>\n",
       "      <th>64395</th>\n",
       "      <td>5</td>\n",
       "      <td>5</td>\n",
       "      <td>Lahore</td>\n",
       "      <td>6.0</td>\n",
       "    </tr>\n",
       "    <tr>\n",
       "      <th>65830</th>\n",
       "      <td>7</td>\n",
       "      <td>5</td>\n",
       "      <td>Lahore</td>\n",
       "      <td>20.0</td>\n",
       "    </tr>\n",
       "    <tr>\n",
       "      <th>108078</th>\n",
       "      <td>5</td>\n",
       "      <td>5</td>\n",
       "      <td>Karachi</td>\n",
       "      <td>8.0</td>\n",
       "    </tr>\n",
       "  </tbody>\n",
       "</table>\n",
       "<p>69649 rows × 4 columns</p>\n",
       "</div>"
      ],
      "text/plain": [
       "        baths  bedrooms       city  Area_in_Marla\n",
       "44749       2         2    Karachi            3.6\n",
       "128534      5         5     Lahore           10.0\n",
       "29224       3         4  Islamabad            7.0\n",
       "89063       2         2  Islamabad            5.0\n",
       "42944       2         2  Islamabad            3.6\n",
       "...       ...       ...        ...            ...\n",
       "30618       2         2  Islamabad            6.2\n",
       "69578       2         2     Lahore            5.0\n",
       "64395       5         5     Lahore            6.0\n",
       "65830       7         5     Lahore           20.0\n",
       "108078      5         5    Karachi            8.0\n",
       "\n",
       "[69649 rows x 4 columns]"
      ]
     },
     "execution_count": 4,
     "metadata": {},
     "output_type": "execute_result"
    }
   ],
   "source": [
    "features = [\"baths\", \"bedrooms\", \"city\", \"Area_in_Marla\"]\n",
    "train_data[features]"
   ]
  },
  {
   "cell_type": "code",
   "execution_count": 17,
   "metadata": {},
   "outputs": [
    {
     "data": {
      "text/plain": [
       "0.4576623598190984"
      ]
     },
     "execution_count": 17,
     "metadata": {},
     "output_type": "execute_result"
    }
   ],
   "source": [
    "from sklearn.pipeline import make_pipeline\n",
    "from sklearn.compose import make_column_transformer\n",
    "from sklearn.preprocessing import StandardScaler\n",
    "from sklearn.feature_extraction.text import HashingVectorizer\n",
    "from sklearn.linear_model import LinearRegression\n",
    "from sklearn.ensemble import BaggingRegressor, RandomForestRegressor\n",
    "\n",
    "def create_pipeline():\n",
    "    return make_pipeline(\n",
    "        make_column_transformer(\n",
    "            (HashingVectorizer(n_features=5), \"city\"),\n",
    "            (StandardScaler(), [\"Area_in_Marla\"]),\n",
    "            remainder=\"passthrough\"),\n",
    "        \n",
    "        # LinearRegression()\n",
    "        RandomForestRegressor(n_estimators=10, random_state=0)\n",
    "    )\n",
    "\n",
    "pipeline = create_pipeline()\n",
    "pipeline.fit(train_data[features], train_data[\"price\"])\n",
    "pipeline.score(train_data[features], train_data[\"price\"])\n"
   ]
  },
  {
   "cell_type": "code",
   "execution_count": 6,
   "metadata": {},
   "outputs": [
    {
     "name": "stderr",
     "output_type": "stream",
     "text": [
      "c:\\Witchaz\\Coding\\mini-project\\venv\\Lib\\site-packages\\sklearn\\base.py:465: UserWarning: X does not have valid feature names, but KBinsDiscretizer was fitted with feature names\n",
      "  warnings.warn(\n"
     ]
    },
    {
     "data": {
      "text/plain": [
       "0.4064744504085549"
      ]
     },
     "execution_count": 6,
     "metadata": {},
     "output_type": "execute_result"
    }
   ],
   "source": [
    "test_data[\"price\"] = np.log10(test_data[\"price\"])\n",
    "test_data[\"price\"] = label_transformer.transform(test_data[[\"price\"]].values.reshape(-1, 1))\n",
    "pipeline.score(test_data[features], test_data[\"price\"])"
   ]
  },
  {
   "cell_type": "code",
   "execution_count": 7,
   "metadata": {},
   "outputs": [
    {
     "data": {
      "text/html": [
       "<div>\n",
       "<style scoped>\n",
       "    .dataframe tbody tr th:only-of-type {\n",
       "        vertical-align: middle;\n",
       "    }\n",
       "\n",
       "    .dataframe tbody tr th {\n",
       "        vertical-align: top;\n",
       "    }\n",
       "\n",
       "    .dataframe thead th {\n",
       "        text-align: right;\n",
       "    }\n",
       "</style>\n",
       "<table border=\"1\" class=\"dataframe\">\n",
       "  <thead>\n",
       "    <tr style=\"text-align: right;\">\n",
       "      <th></th>\n",
       "      <th>property_type</th>\n",
       "      <th>price</th>\n",
       "      <th>location</th>\n",
       "      <th>city</th>\n",
       "      <th>baths</th>\n",
       "      <th>purpose</th>\n",
       "      <th>bedrooms</th>\n",
       "      <th>Area_in_Marla</th>\n",
       "    </tr>\n",
       "  </thead>\n",
       "  <tbody>\n",
       "    <tr>\n",
       "      <th>160</th>\n",
       "      <td>House</td>\n",
       "      <td>3.0</td>\n",
       "      <td>Gadap Town</td>\n",
       "      <td>Karachi</td>\n",
       "      <td>4</td>\n",
       "      <td>For Sale</td>\n",
       "      <td>4</td>\n",
       "      <td>9.6</td>\n",
       "    </tr>\n",
       "  </tbody>\n",
       "</table>\n",
       "</div>"
      ],
      "text/plain": [
       "    property_type  price    location     city  baths   purpose  bedrooms  \\\n",
       "160         House    3.0  Gadap Town  Karachi      4  For Sale         4   \n",
       "\n",
       "     Area_in_Marla  \n",
       "160            9.6  "
      ]
     },
     "execution_count": 7,
     "metadata": {},
     "output_type": "execute_result"
    }
   ],
   "source": [
    "sample = test_data.sample(random_state=0)\n",
    "sample"
   ]
  },
  {
   "cell_type": "code",
   "execution_count": 8,
   "metadata": {},
   "outputs": [
    {
     "data": {
      "text/plain": [
       "2.6331134923049473"
      ]
     },
     "execution_count": 8,
     "metadata": {},
     "output_type": "execute_result"
    }
   ],
   "source": [
    "price = pipeline.predict(sample)[0]\n",
    "price"
   ]
  },
  {
   "cell_type": "code",
   "execution_count": 9,
   "metadata": {},
   "outputs": [
    {
     "data": {
      "text/html": [
       "<div>\n",
       "<style scoped>\n",
       "    .dataframe tbody tr th:only-of-type {\n",
       "        vertical-align: middle;\n",
       "    }\n",
       "\n",
       "    .dataframe tbody tr th {\n",
       "        vertical-align: top;\n",
       "    }\n",
       "\n",
       "    .dataframe thead th {\n",
       "        text-align: right;\n",
       "    }\n",
       "</style>\n",
       "<table border=\"1\" class=\"dataframe\">\n",
       "  <thead>\n",
       "    <tr style=\"text-align: right;\">\n",
       "      <th></th>\n",
       "      <th>baths</th>\n",
       "      <th>bedrooms</th>\n",
       "      <th>city</th>\n",
       "      <th>Area_in_Marla</th>\n",
       "    </tr>\n",
       "  </thead>\n",
       "  <tbody>\n",
       "    <tr>\n",
       "      <th>0</th>\n",
       "      <td>2</td>\n",
       "      <td>2</td>\n",
       "      <td>Islamabad</td>\n",
       "      <td>4.0</td>\n",
       "    </tr>\n",
       "  </tbody>\n",
       "</table>\n",
       "</div>"
      ],
      "text/plain": [
       "   baths  bedrooms       city  Area_in_Marla\n",
       "0      2         2  Islamabad            4.0"
      ]
     },
     "execution_count": 9,
     "metadata": {},
     "output_type": "execute_result"
    }
   ],
   "source": [
    "sample = {\"baths\": 2, \"bedrooms\": 2, \"city\": \"Islamabad\", \"Area_in_Marla\": 4.0}\n",
    "sample = pd.DataFrame([sample])\n",
    "sample"
   ]
  },
  {
   "cell_type": "code",
   "execution_count": 10,
   "metadata": {},
   "outputs": [
    {
     "data": {
      "text/plain": [
       "0.794562925736783"
      ]
     },
     "execution_count": 10,
     "metadata": {},
     "output_type": "execute_result"
    }
   ],
   "source": [
    "price = pipeline.predict(sample)[0]\n",
    "price"
   ]
  },
  {
   "cell_type": "code",
   "execution_count": 11,
   "metadata": {},
   "outputs": [
    {
     "data": {
      "text/plain": [
       "3.1976898080604834"
      ]
     },
     "execution_count": 11,
     "metadata": {},
     "output_type": "execute_result"
    }
   ],
   "source": [
    "sample = pd.DataFrame([{\"baths\": 4, \"bedrooms\": 4, \"city\": \"Islamabad\", \"Area_in_Marla\": 10.0}])\n",
    "pipeline.predict(sample)[0]"
   ]
  }
 ],
 "metadata": {
  "kernelspec": {
   "display_name": "venv",
   "language": "python",
   "name": "python3"
  },
  "language_info": {
   "codemirror_mode": {
    "name": "ipython",
    "version": 3
   },
   "file_extension": ".py",
   "mimetype": "text/x-python",
   "name": "python",
   "nbconvert_exporter": "python",
   "pygments_lexer": "ipython3",
   "version": "3.12.1"
  }
 },
 "nbformat": 4,
 "nbformat_minor": 2
}
