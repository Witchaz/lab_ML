{
 "cells": [
  {
   "cell_type": "code",
   "execution_count": 44,
   "metadata": {},
   "outputs": [
    {
     "data": {
      "text/html": [
       "<div>\n",
       "<style scoped>\n",
       "    .dataframe tbody tr th:only-of-type {\n",
       "        vertical-align: middle;\n",
       "    }\n",
       "\n",
       "    .dataframe tbody tr th {\n",
       "        vertical-align: top;\n",
       "    }\n",
       "\n",
       "    .dataframe thead th {\n",
       "        text-align: right;\n",
       "    }\n",
       "</style>\n",
       "<table border=\"1\" class=\"dataframe\">\n",
       "  <thead>\n",
       "    <tr style=\"text-align: right;\">\n",
       "      <th></th>\n",
       "      <th>property_type</th>\n",
       "      <th>price</th>\n",
       "      <th>location</th>\n",
       "      <th>city</th>\n",
       "      <th>baths</th>\n",
       "      <th>purpose</th>\n",
       "      <th>bedrooms</th>\n",
       "      <th>Area_in_Marla</th>\n",
       "    </tr>\n",
       "  </thead>\n",
       "  <tbody>\n",
       "    <tr>\n",
       "      <th>0</th>\n",
       "      <td>Flat</td>\n",
       "      <td>10000000</td>\n",
       "      <td>G-10</td>\n",
       "      <td>Islamabad</td>\n",
       "      <td>2</td>\n",
       "      <td>For Sale</td>\n",
       "      <td>2</td>\n",
       "      <td>4.0</td>\n",
       "    </tr>\n",
       "    <tr>\n",
       "      <th>1</th>\n",
       "      <td>Flat</td>\n",
       "      <td>6900000</td>\n",
       "      <td>E-11</td>\n",
       "      <td>Islamabad</td>\n",
       "      <td>3</td>\n",
       "      <td>For Sale</td>\n",
       "      <td>3</td>\n",
       "      <td>5.6</td>\n",
       "    </tr>\n",
       "    <tr>\n",
       "      <th>2</th>\n",
       "      <td>House</td>\n",
       "      <td>16500000</td>\n",
       "      <td>G-15</td>\n",
       "      <td>Islamabad</td>\n",
       "      <td>6</td>\n",
       "      <td>For Sale</td>\n",
       "      <td>5</td>\n",
       "      <td>8.0</td>\n",
       "    </tr>\n",
       "    <tr>\n",
       "      <th>3</th>\n",
       "      <td>House</td>\n",
       "      <td>43500000</td>\n",
       "      <td>Bani Gala</td>\n",
       "      <td>Islamabad</td>\n",
       "      <td>4</td>\n",
       "      <td>For Sale</td>\n",
       "      <td>4</td>\n",
       "      <td>40.0</td>\n",
       "    </tr>\n",
       "    <tr>\n",
       "      <th>4</th>\n",
       "      <td>House</td>\n",
       "      <td>7000000</td>\n",
       "      <td>DHA Defence</td>\n",
       "      <td>Islamabad</td>\n",
       "      <td>3</td>\n",
       "      <td>For Sale</td>\n",
       "      <td>3</td>\n",
       "      <td>8.0</td>\n",
       "    </tr>\n",
       "    <tr>\n",
       "      <th>...</th>\n",
       "      <td>...</td>\n",
       "      <td>...</td>\n",
       "      <td>...</td>\n",
       "      <td>...</td>\n",
       "      <td>...</td>\n",
       "      <td>...</td>\n",
       "      <td>...</td>\n",
       "      <td>...</td>\n",
       "    </tr>\n",
       "    <tr>\n",
       "      <th>168435</th>\n",
       "      <td>Flat</td>\n",
       "      <td>7500000</td>\n",
       "      <td>Bahria Town Karachi</td>\n",
       "      <td>Karachi</td>\n",
       "      <td>3</td>\n",
       "      <td>For Sale</td>\n",
       "      <td>3</td>\n",
       "      <td>8.0</td>\n",
       "    </tr>\n",
       "    <tr>\n",
       "      <th>168436</th>\n",
       "      <td>House</td>\n",
       "      <td>8800000</td>\n",
       "      <td>Bahria Town Karachi</td>\n",
       "      <td>Karachi</td>\n",
       "      <td>4</td>\n",
       "      <td>For Sale</td>\n",
       "      <td>3</td>\n",
       "      <td>8.0</td>\n",
       "    </tr>\n",
       "    <tr>\n",
       "      <th>168438</th>\n",
       "      <td>House</td>\n",
       "      <td>14000000</td>\n",
       "      <td>Bahria Town Karachi</td>\n",
       "      <td>Karachi</td>\n",
       "      <td>3</td>\n",
       "      <td>For Sale</td>\n",
       "      <td>3</td>\n",
       "      <td>8.0</td>\n",
       "    </tr>\n",
       "    <tr>\n",
       "      <th>168439</th>\n",
       "      <td>House</td>\n",
       "      <td>14000000</td>\n",
       "      <td>Bahria Town Karachi</td>\n",
       "      <td>Karachi</td>\n",
       "      <td>4</td>\n",
       "      <td>For Sale</td>\n",
       "      <td>4</td>\n",
       "      <td>14.0</td>\n",
       "    </tr>\n",
       "    <tr>\n",
       "      <th>168445</th>\n",
       "      <td>House</td>\n",
       "      <td>9000000</td>\n",
       "      <td>Bahria Town Karachi</td>\n",
       "      <td>Karachi</td>\n",
       "      <td>3</td>\n",
       "      <td>For Sale</td>\n",
       "      <td>3</td>\n",
       "      <td>9.4</td>\n",
       "    </tr>\n",
       "  </tbody>\n",
       "</table>\n",
       "<p>99499 rows × 8 columns</p>\n",
       "</div>"
      ],
      "text/plain": [
       "       property_type     price             location       city  baths  \\\n",
       "0               Flat  10000000                 G-10  Islamabad      2   \n",
       "1               Flat   6900000                 E-11  Islamabad      3   \n",
       "2              House  16500000                 G-15  Islamabad      6   \n",
       "3              House  43500000            Bani Gala  Islamabad      4   \n",
       "4              House   7000000          DHA Defence  Islamabad      3   \n",
       "...              ...       ...                  ...        ...    ...   \n",
       "168435          Flat   7500000  Bahria Town Karachi    Karachi      3   \n",
       "168436         House   8800000  Bahria Town Karachi    Karachi      4   \n",
       "168438         House  14000000  Bahria Town Karachi    Karachi      3   \n",
       "168439         House  14000000  Bahria Town Karachi    Karachi      4   \n",
       "168445         House   9000000  Bahria Town Karachi    Karachi      3   \n",
       "\n",
       "         purpose  bedrooms  Area_in_Marla  \n",
       "0       For Sale         2            4.0  \n",
       "1       For Sale         3            5.6  \n",
       "2       For Sale         5            8.0  \n",
       "3       For Sale         4           40.0  \n",
       "4       For Sale         3            8.0  \n",
       "...          ...       ...            ...  \n",
       "168435  For Sale         3            8.0  \n",
       "168436  For Sale         3            8.0  \n",
       "168438  For Sale         3            8.0  \n",
       "168439  For Sale         4           14.0  \n",
       "168445  For Sale         3            9.4  \n",
       "\n",
       "[99499 rows x 8 columns]"
      ]
     },
     "execution_count": 44,
     "metadata": {},
     "output_type": "execute_result"
    }
   ],
   "source": [
    "import pandas as pd\n",
    "\n",
    "data = pd.read_csv(\"house_prices.csv\", index_col=0)\n",
    "# data = data.sample(frac=0.5, random_state=0),\n",
    "data"
   ]
  },
  {
   "cell_type": "code",
   "execution_count": 45,
   "metadata": {},
   "outputs": [
    {
     "data": {
      "text/html": [
       "<div>\n",
       "<style scoped>\n",
       "    .dataframe tbody tr th:only-of-type {\n",
       "        vertical-align: middle;\n",
       "    }\n",
       "\n",
       "    .dataframe tbody tr th {\n",
       "        vertical-align: top;\n",
       "    }\n",
       "\n",
       "    .dataframe thead th {\n",
       "        text-align: right;\n",
       "    }\n",
       "</style>\n",
       "<table border=\"1\" class=\"dataframe\">\n",
       "  <thead>\n",
       "    <tr style=\"text-align: right;\">\n",
       "      <th></th>\n",
       "      <th>property_type</th>\n",
       "      <th>price</th>\n",
       "      <th>location</th>\n",
       "      <th>city</th>\n",
       "      <th>baths</th>\n",
       "      <th>purpose</th>\n",
       "      <th>bedrooms</th>\n",
       "      <th>Area_in_Marla</th>\n",
       "    </tr>\n",
       "  </thead>\n",
       "  <tbody>\n",
       "    <tr>\n",
       "      <th>0</th>\n",
       "      <td>Flat</td>\n",
       "      <td>10000000</td>\n",
       "      <td>G-10</td>\n",
       "      <td>Islamabad</td>\n",
       "      <td>2</td>\n",
       "      <td>For Sale</td>\n",
       "      <td>2</td>\n",
       "      <td>4.0</td>\n",
       "    </tr>\n",
       "    <tr>\n",
       "      <th>1</th>\n",
       "      <td>Flat</td>\n",
       "      <td>6900000</td>\n",
       "      <td>E-11</td>\n",
       "      <td>Islamabad</td>\n",
       "      <td>3</td>\n",
       "      <td>For Sale</td>\n",
       "      <td>3</td>\n",
       "      <td>5.6</td>\n",
       "    </tr>\n",
       "    <tr>\n",
       "      <th>2</th>\n",
       "      <td>House</td>\n",
       "      <td>16500000</td>\n",
       "      <td>G-15</td>\n",
       "      <td>Islamabad</td>\n",
       "      <td>6</td>\n",
       "      <td>For Sale</td>\n",
       "      <td>5</td>\n",
       "      <td>8.0</td>\n",
       "    </tr>\n",
       "    <tr>\n",
       "      <th>3</th>\n",
       "      <td>House</td>\n",
       "      <td>43500000</td>\n",
       "      <td>Bani Gala</td>\n",
       "      <td>Islamabad</td>\n",
       "      <td>4</td>\n",
       "      <td>For Sale</td>\n",
       "      <td>4</td>\n",
       "      <td>40.0</td>\n",
       "    </tr>\n",
       "    <tr>\n",
       "      <th>4</th>\n",
       "      <td>House</td>\n",
       "      <td>7000000</td>\n",
       "      <td>DHA Defence</td>\n",
       "      <td>Islamabad</td>\n",
       "      <td>3</td>\n",
       "      <td>For Sale</td>\n",
       "      <td>3</td>\n",
       "      <td>8.0</td>\n",
       "    </tr>\n",
       "    <tr>\n",
       "      <th>...</th>\n",
       "      <td>...</td>\n",
       "      <td>...</td>\n",
       "      <td>...</td>\n",
       "      <td>...</td>\n",
       "      <td>...</td>\n",
       "      <td>...</td>\n",
       "      <td>...</td>\n",
       "      <td>...</td>\n",
       "    </tr>\n",
       "    <tr>\n",
       "      <th>168435</th>\n",
       "      <td>Flat</td>\n",
       "      <td>7500000</td>\n",
       "      <td>Bahria Town Karachi</td>\n",
       "      <td>Karachi</td>\n",
       "      <td>3</td>\n",
       "      <td>For Sale</td>\n",
       "      <td>3</td>\n",
       "      <td>8.0</td>\n",
       "    </tr>\n",
       "    <tr>\n",
       "      <th>168436</th>\n",
       "      <td>House</td>\n",
       "      <td>8800000</td>\n",
       "      <td>Bahria Town Karachi</td>\n",
       "      <td>Karachi</td>\n",
       "      <td>4</td>\n",
       "      <td>For Sale</td>\n",
       "      <td>3</td>\n",
       "      <td>8.0</td>\n",
       "    </tr>\n",
       "    <tr>\n",
       "      <th>168438</th>\n",
       "      <td>House</td>\n",
       "      <td>14000000</td>\n",
       "      <td>Bahria Town Karachi</td>\n",
       "      <td>Karachi</td>\n",
       "      <td>3</td>\n",
       "      <td>For Sale</td>\n",
       "      <td>3</td>\n",
       "      <td>8.0</td>\n",
       "    </tr>\n",
       "    <tr>\n",
       "      <th>168439</th>\n",
       "      <td>House</td>\n",
       "      <td>14000000</td>\n",
       "      <td>Bahria Town Karachi</td>\n",
       "      <td>Karachi</td>\n",
       "      <td>4</td>\n",
       "      <td>For Sale</td>\n",
       "      <td>4</td>\n",
       "      <td>14.0</td>\n",
       "    </tr>\n",
       "    <tr>\n",
       "      <th>168445</th>\n",
       "      <td>House</td>\n",
       "      <td>9000000</td>\n",
       "      <td>Bahria Town Karachi</td>\n",
       "      <td>Karachi</td>\n",
       "      <td>3</td>\n",
       "      <td>For Sale</td>\n",
       "      <td>3</td>\n",
       "      <td>9.4</td>\n",
       "    </tr>\n",
       "  </tbody>\n",
       "</table>\n",
       "<p>99489 rows × 8 columns</p>\n",
       "</div>"
      ],
      "text/plain": [
       "       property_type     price             location       city  baths  \\\n",
       "0               Flat  10000000                 G-10  Islamabad      2   \n",
       "1               Flat   6900000                 E-11  Islamabad      3   \n",
       "2              House  16500000                 G-15  Islamabad      6   \n",
       "3              House  43500000            Bani Gala  Islamabad      4   \n",
       "4              House   7000000          DHA Defence  Islamabad      3   \n",
       "...              ...       ...                  ...        ...    ...   \n",
       "168435          Flat   7500000  Bahria Town Karachi    Karachi      3   \n",
       "168436         House   8800000  Bahria Town Karachi    Karachi      4   \n",
       "168438         House  14000000  Bahria Town Karachi    Karachi      3   \n",
       "168439         House  14000000  Bahria Town Karachi    Karachi      4   \n",
       "168445         House   9000000  Bahria Town Karachi    Karachi      3   \n",
       "\n",
       "         purpose  bedrooms  Area_in_Marla  \n",
       "0       For Sale         2            4.0  \n",
       "1       For Sale         3            5.6  \n",
       "2       For Sale         5            8.0  \n",
       "3       For Sale         4           40.0  \n",
       "4       For Sale         3            8.0  \n",
       "...          ...       ...            ...  \n",
       "168435  For Sale         3            8.0  \n",
       "168436  For Sale         3            8.0  \n",
       "168438  For Sale         3            8.0  \n",
       "168439  For Sale         4           14.0  \n",
       "168445  For Sale         3            9.4  \n",
       "\n",
       "[99489 rows x 8 columns]"
      ]
     },
     "execution_count": 45,
     "metadata": {},
     "output_type": "execute_result"
    }
   ],
   "source": [
    "data = data[data[\"Area_in_Marla\"] > 0]\n",
    "data"
   ]
  },
  {
   "cell_type": "code",
   "execution_count": 46,
   "metadata": {},
   "outputs": [
    {
     "data": {
      "text/plain": [
       "(69642, 14924, 14923)"
      ]
     },
     "execution_count": 46,
     "metadata": {},
     "output_type": "execute_result"
    }
   ],
   "source": [
    "from sklearn.model_selection import train_test_split\n",
    "\n",
    "train_data, test_data = train_test_split(data, test_size=0.3, random_state=0)\n",
    "test_data, valid_data = train_test_split(test_data, test_size=0.5, random_state=0)\n",
    "train_data.shape[0], valid_data.shape[0], test_data.shape[0]"
   ]
  },
  {
   "cell_type": "code",
   "execution_count": 47,
   "metadata": {},
   "outputs": [
    {
     "data": {
      "text/html": [
       "<div>\n",
       "<style scoped>\n",
       "    .dataframe tbody tr th:only-of-type {\n",
       "        vertical-align: middle;\n",
       "    }\n",
       "\n",
       "    .dataframe tbody tr th {\n",
       "        vertical-align: top;\n",
       "    }\n",
       "\n",
       "    .dataframe thead th {\n",
       "        text-align: right;\n",
       "    }\n",
       "</style>\n",
       "<table border=\"1\" class=\"dataframe\">\n",
       "  <thead>\n",
       "    <tr style=\"text-align: right;\">\n",
       "      <th></th>\n",
       "      <th>property_type</th>\n",
       "      <th>location</th>\n",
       "      <th>city</th>\n",
       "      <th>baths</th>\n",
       "      <th>bedrooms</th>\n",
       "      <th>Area_in_Marla</th>\n",
       "    </tr>\n",
       "  </thead>\n",
       "  <tbody>\n",
       "    <tr>\n",
       "      <th>63850</th>\n",
       "      <td>Lower Portion</td>\n",
       "      <td>E-11</td>\n",
       "      <td>Islamabad</td>\n",
       "      <td>3</td>\n",
       "      <td>2</td>\n",
       "      <td>16.0</td>\n",
       "    </tr>\n",
       "    <tr>\n",
       "      <th>42954</th>\n",
       "      <td>House</td>\n",
       "      <td>Bhara kahu</td>\n",
       "      <td>Islamabad</td>\n",
       "      <td>6</td>\n",
       "      <td>5</td>\n",
       "      <td>10.0</td>\n",
       "    </tr>\n",
       "    <tr>\n",
       "      <th>48558</th>\n",
       "      <td>Flat</td>\n",
       "      <td>Jamshed Road</td>\n",
       "      <td>Karachi</td>\n",
       "      <td>2</td>\n",
       "      <td>3</td>\n",
       "      <td>3.3</td>\n",
       "    </tr>\n",
       "    <tr>\n",
       "      <th>86067</th>\n",
       "      <td>Flat</td>\n",
       "      <td>DHA Defence</td>\n",
       "      <td>Karachi</td>\n",
       "      <td>3</td>\n",
       "      <td>3</td>\n",
       "      <td>7.6</td>\n",
       "    </tr>\n",
       "    <tr>\n",
       "      <th>114639</th>\n",
       "      <td>Flat</td>\n",
       "      <td>9th Avenue</td>\n",
       "      <td>Islamabad</td>\n",
       "      <td>4</td>\n",
       "      <td>3</td>\n",
       "      <td>12.7</td>\n",
       "    </tr>\n",
       "    <tr>\n",
       "      <th>...</th>\n",
       "      <td>...</td>\n",
       "      <td>...</td>\n",
       "      <td>...</td>\n",
       "      <td>...</td>\n",
       "      <td>...</td>\n",
       "      <td>...</td>\n",
       "    </tr>\n",
       "    <tr>\n",
       "      <th>30619</th>\n",
       "      <td>Flat</td>\n",
       "      <td>E-11</td>\n",
       "      <td>Islamabad</td>\n",
       "      <td>2</td>\n",
       "      <td>2</td>\n",
       "      <td>6.2</td>\n",
       "    </tr>\n",
       "    <tr>\n",
       "      <th>69580</th>\n",
       "      <td>House</td>\n",
       "      <td>Paragon City</td>\n",
       "      <td>Lahore</td>\n",
       "      <td>4</td>\n",
       "      <td>3</td>\n",
       "      <td>5.0</td>\n",
       "    </tr>\n",
       "    <tr>\n",
       "      <th>64399</th>\n",
       "      <td>House</td>\n",
       "      <td>DHA Defence</td>\n",
       "      <td>Lahore</td>\n",
       "      <td>3</td>\n",
       "      <td>4</td>\n",
       "      <td>20.0</td>\n",
       "    </tr>\n",
       "    <tr>\n",
       "      <th>65832</th>\n",
       "      <td>House</td>\n",
       "      <td>Central Park Housing Scheme</td>\n",
       "      <td>Lahore</td>\n",
       "      <td>5</td>\n",
       "      <td>5</td>\n",
       "      <td>20.0</td>\n",
       "    </tr>\n",
       "    <tr>\n",
       "      <th>108080</th>\n",
       "      <td>Flat</td>\n",
       "      <td>Gulistan-e-Jauhar</td>\n",
       "      <td>Karachi</td>\n",
       "      <td>3</td>\n",
       "      <td>3</td>\n",
       "      <td>6.2</td>\n",
       "    </tr>\n",
       "  </tbody>\n",
       "</table>\n",
       "<p>69642 rows × 6 columns</p>\n",
       "</div>"
      ],
      "text/plain": [
       "        property_type                     location       city  baths  \\\n",
       "63850   Lower Portion                         E-11  Islamabad      3   \n",
       "42954           House                   Bhara kahu  Islamabad      6   \n",
       "48558            Flat                 Jamshed Road    Karachi      2   \n",
       "86067            Flat                  DHA Defence    Karachi      3   \n",
       "114639           Flat                   9th Avenue  Islamabad      4   \n",
       "...               ...                          ...        ...    ...   \n",
       "30619            Flat                         E-11  Islamabad      2   \n",
       "69580           House                 Paragon City     Lahore      4   \n",
       "64399           House                  DHA Defence     Lahore      3   \n",
       "65832           House  Central Park Housing Scheme     Lahore      5   \n",
       "108080           Flat            Gulistan-e-Jauhar    Karachi      3   \n",
       "\n",
       "        bedrooms  Area_in_Marla  \n",
       "63850          2           16.0  \n",
       "42954          5           10.0  \n",
       "48558          3            3.3  \n",
       "86067          3            7.6  \n",
       "114639         3           12.7  \n",
       "...          ...            ...  \n",
       "30619          2            6.2  \n",
       "69580          3            5.0  \n",
       "64399          4           20.0  \n",
       "65832          5           20.0  \n",
       "108080         3            6.2  \n",
       "\n",
       "[69642 rows x 6 columns]"
      ]
     },
     "execution_count": 47,
     "metadata": {},
     "output_type": "execute_result"
    }
   ],
   "source": [
    "features = [\n",
    "    \"property_type\",\n",
    "    \"location\",\n",
    "    \"city\",\n",
    "    \"baths\",\n",
    "    \"bedrooms\",\n",
    "    \"Area_in_Marla\",\n",
    "]\n",
    "\n",
    "train_data[features]"
   ]
  },
  {
   "cell_type": "code",
   "execution_count": 48,
   "metadata": {},
   "outputs": [
    {
     "data": {
      "text/plain": [
       "property_type\n",
       "House            40675\n",
       "Flat             18755\n",
       "Upper Portion     5961\n",
       "Lower Portion     3824\n",
       "Penthouse          185\n",
       "Room               177\n",
       "Farm House          65\n",
       "Name: count, dtype: int64"
      ]
     },
     "execution_count": 48,
     "metadata": {},
     "output_type": "execute_result"
    }
   ],
   "source": [
    "train_data[\"property_type\"].value_counts()"
   ]
  },
  {
   "cell_type": "code",
   "execution_count": 49,
   "metadata": {},
   "outputs": [
    {
     "data": {
      "text/plain": [
       "location\n",
       "DHA Defence               8253\n",
       "Bahria Town Karachi       4666\n",
       "Bahria Town Rawalpindi    3690\n",
       "Bahria Town               3119\n",
       "Gulistan-e-Jauhar         2460\n",
       "                          ... \n",
       "Mian Aziz Garden             1\n",
       "Cantt View Society           1\n",
       "TECH Society                 1\n",
       "Dream Villas                 1\n",
       "Gulshan-e-Safeer             1\n",
       "Name: count, Length: 1307, dtype: int64"
      ]
     },
     "execution_count": 49,
     "metadata": {},
     "output_type": "execute_result"
    }
   ],
   "source": [
    "train_data[\"location\"].value_counts()"
   ]
  },
  {
   "cell_type": "code",
   "execution_count": 50,
   "metadata": {},
   "outputs": [
    {
     "data": {
      "text/plain": [
       "city\n",
       "Karachi       26010\n",
       "Lahore        18390\n",
       "Islamabad     15445\n",
       "Rawalpindi     8212\n",
       "Faisalabad     1585\n",
       "Name: count, dtype: int64"
      ]
     },
     "execution_count": 50,
     "metadata": {},
     "output_type": "execute_result"
    }
   ],
   "source": [
    "train_data[\"city\"].value_counts()"
   ]
  },
  {
   "cell_type": "code",
   "execution_count": 51,
   "metadata": {},
   "outputs": [
    {
     "data": {
      "text/plain": [
       "63850        50000\n",
       "42954     15000000\n",
       "48558        25000\n",
       "86067     22000000\n",
       "114639       85000\n",
       "            ...   \n",
       "30619        53500\n",
       "69580      9600000\n",
       "64399     40000000\n",
       "65832     30000000\n",
       "108080     9200000\n",
       "Name: price, Length: 69642, dtype: int64"
      ]
     },
     "execution_count": 51,
     "metadata": {},
     "output_type": "execute_result"
    }
   ],
   "source": [
    "label = \"price\"\n",
    "train_data[label]"
   ]
  },
  {
   "cell_type": "code",
   "execution_count": 52,
   "metadata": {},
   "outputs": [
    {
     "data": {
      "text/plain": [
       "63850    -0.971030\n",
       "42954     0.431292\n",
       "48558    -0.973375\n",
       "86067     1.087897\n",
       "114639   -0.967747\n",
       "            ...   \n",
       "30619    -0.970702\n",
       "69580    -0.075233\n",
       "64399     2.776311\n",
       "65832     1.838303\n",
       "108080   -0.112753\n",
       "Name: price, Length: 69642, dtype: float64"
      ]
     },
     "execution_count": 52,
     "metadata": {},
     "output_type": "execute_result"
    }
   ],
   "source": [
    "from sklearn.preprocessing import StandardScaler\n",
    "\n",
    "label_tfm = StandardScaler()\n",
    "label_tfm.fit(train_data[label].to_frame())\n",
    "\n",
    "train_data[label] = label_tfm.transform(train_data[label].to_frame())\n",
    "valid_data[label] = label_tfm.transform(valid_data[label].to_frame())\n",
    "test_data[label] = label_tfm.transform(test_data[label].to_frame())\n",
    "\n",
    "train_data[label]"
   ]
  },
  {
   "cell_type": "code",
   "execution_count": 53,
   "metadata": {},
   "outputs": [
    {
     "name": "stdout",
     "output_type": "stream",
     "text": [
      "-0.000\n"
     ]
    }
   ],
   "source": [
    "from sklearn.dummy import DummyRegressor\n",
    "\n",
    "baseline = DummyRegressor(strategy=\"mean\")\n",
    "baseline.fit(train_data[features], train_data[label])\n",
    "\n",
    "score = baseline.score(test_data[features], test_data[label])\n",
    "print(f\"{score:.3f}\")"
   ]
  },
  {
   "cell_type": "code",
   "execution_count": 54,
   "metadata": {},
   "outputs": [
    {
     "data": {
      "text/html": [
       "<style>#sk-container-id-3 {color: black;}#sk-container-id-3 pre{padding: 0;}#sk-container-id-3 div.sk-toggleable {background-color: white;}#sk-container-id-3 label.sk-toggleable__label {cursor: pointer;display: block;width: 100%;margin-bottom: 0;padding: 0.3em;box-sizing: border-box;text-align: center;}#sk-container-id-3 label.sk-toggleable__label-arrow:before {content: \"▸\";float: left;margin-right: 0.25em;color: #696969;}#sk-container-id-3 label.sk-toggleable__label-arrow:hover:before {color: black;}#sk-container-id-3 div.sk-estimator:hover label.sk-toggleable__label-arrow:before {color: black;}#sk-container-id-3 div.sk-toggleable__content {max-height: 0;max-width: 0;overflow: hidden;text-align: left;background-color: #f0f8ff;}#sk-container-id-3 div.sk-toggleable__content pre {margin: 0.2em;color: black;border-radius: 0.25em;background-color: #f0f8ff;}#sk-container-id-3 input.sk-toggleable__control:checked~div.sk-toggleable__content {max-height: 200px;max-width: 100%;overflow: auto;}#sk-container-id-3 input.sk-toggleable__control:checked~label.sk-toggleable__label-arrow:before {content: \"▾\";}#sk-container-id-3 div.sk-estimator input.sk-toggleable__control:checked~label.sk-toggleable__label {background-color: #d4ebff;}#sk-container-id-3 div.sk-label input.sk-toggleable__control:checked~label.sk-toggleable__label {background-color: #d4ebff;}#sk-container-id-3 input.sk-hidden--visually {border: 0;clip: rect(1px 1px 1px 1px);clip: rect(1px, 1px, 1px, 1px);height: 1px;margin: -1px;overflow: hidden;padding: 0;position: absolute;width: 1px;}#sk-container-id-3 div.sk-estimator {font-family: monospace;background-color: #f0f8ff;border: 1px dotted black;border-radius: 0.25em;box-sizing: border-box;margin-bottom: 0.5em;}#sk-container-id-3 div.sk-estimator:hover {background-color: #d4ebff;}#sk-container-id-3 div.sk-parallel-item::after {content: \"\";width: 100%;border-bottom: 1px solid gray;flex-grow: 1;}#sk-container-id-3 div.sk-label:hover label.sk-toggleable__label {background-color: #d4ebff;}#sk-container-id-3 div.sk-serial::before {content: \"\";position: absolute;border-left: 1px solid gray;box-sizing: border-box;top: 0;bottom: 0;left: 50%;z-index: 0;}#sk-container-id-3 div.sk-serial {display: flex;flex-direction: column;align-items: center;background-color: white;padding-right: 0.2em;padding-left: 0.2em;position: relative;}#sk-container-id-3 div.sk-item {position: relative;z-index: 1;}#sk-container-id-3 div.sk-parallel {display: flex;align-items: stretch;justify-content: center;background-color: white;position: relative;}#sk-container-id-3 div.sk-item::before, #sk-container-id-3 div.sk-parallel-item::before {content: \"\";position: absolute;border-left: 1px solid gray;box-sizing: border-box;top: 0;bottom: 0;left: 50%;z-index: -1;}#sk-container-id-3 div.sk-parallel-item {display: flex;flex-direction: column;z-index: 1;position: relative;background-color: white;}#sk-container-id-3 div.sk-parallel-item:first-child::after {align-self: flex-end;width: 50%;}#sk-container-id-3 div.sk-parallel-item:last-child::after {align-self: flex-start;width: 50%;}#sk-container-id-3 div.sk-parallel-item:only-child::after {width: 0;}#sk-container-id-3 div.sk-dashed-wrapped {border: 1px dashed gray;margin: 0 0.4em 0.5em 0.4em;box-sizing: border-box;padding-bottom: 0.4em;background-color: white;}#sk-container-id-3 div.sk-label label {font-family: monospace;font-weight: bold;display: inline-block;line-height: 1.2em;}#sk-container-id-3 div.sk-label-container {text-align: center;}#sk-container-id-3 div.sk-container {/* jupyter's `normalize.less` sets `[hidden] { display: none; }` but bootstrap.min.css set `[hidden] { display: none !important; }` so we also need the `!important` here to be able to override the default hidden behavior on the sphinx rendered scikit-learn.org. See: https://github.com/scikit-learn/scikit-learn/issues/21755 */display: inline-block !important;position: relative;}#sk-container-id-3 div.sk-text-repr-fallback {display: none;}</style><div id=\"sk-container-id-3\" class=\"sk-top-container\"><div class=\"sk-text-repr-fallback\"><pre>Pipeline(steps=[(&#x27;columntransformer&#x27;,\n",
       "                 ColumnTransformer(remainder=&#x27;passthrough&#x27;,\n",
       "                                   transformers=[(&#x27;onehotencoder-1&#x27;,\n",
       "                                                  OneHotEncoder(min_frequency=0.1),\n",
       "                                                  [&#x27;property_type&#x27;]),\n",
       "                                                 (&#x27;tfidfvectorizer&#x27;,\n",
       "                                                  TfidfVectorizer(max_df=0.5,\n",
       "                                                                  min_df=5,\n",
       "                                                                  ngram_range=(1,\n",
       "                                                                               3)),\n",
       "                                                  &#x27;location&#x27;),\n",
       "                                                 (&#x27;onehotencoder-2&#x27;,\n",
       "                                                  OneHotEncoder(min_frequency=0.1),\n",
       "                                                  [&#x27;city&#x27;]),\n",
       "                                                 (&#x27;standardscaler-1&#x27;,\n",
       "                                                  StandardScaler(), [&#x27;baths&#x27;]),\n",
       "                                                 (&#x27;standardscaler-2&#x27;,\n",
       "                                                  StandardScaler(),\n",
       "                                                  [&#x27;bedrooms&#x27;]),\n",
       "                                                 (&#x27;standardscaler-3&#x27;,\n",
       "                                                  StandardScaler(),\n",
       "                                                  [&#x27;Area_in_Marla&#x27;])])),\n",
       "                (&#x27;sgdregressor&#x27;, SGDRegressor(random_state=0))])</pre><b>In a Jupyter environment, please rerun this cell to show the HTML representation or trust the notebook. <br />On GitHub, the HTML representation is unable to render, please try loading this page with nbviewer.org.</b></div><div class=\"sk-container\" hidden><div class=\"sk-item sk-dashed-wrapped\"><div class=\"sk-label-container\"><div class=\"sk-label sk-toggleable\"><input class=\"sk-toggleable__control sk-hidden--visually\" id=\"sk-estimator-id-35\" type=\"checkbox\" ><label for=\"sk-estimator-id-35\" class=\"sk-toggleable__label sk-toggleable__label-arrow\">Pipeline</label><div class=\"sk-toggleable__content\"><pre>Pipeline(steps=[(&#x27;columntransformer&#x27;,\n",
       "                 ColumnTransformer(remainder=&#x27;passthrough&#x27;,\n",
       "                                   transformers=[(&#x27;onehotencoder-1&#x27;,\n",
       "                                                  OneHotEncoder(min_frequency=0.1),\n",
       "                                                  [&#x27;property_type&#x27;]),\n",
       "                                                 (&#x27;tfidfvectorizer&#x27;,\n",
       "                                                  TfidfVectorizer(max_df=0.5,\n",
       "                                                                  min_df=5,\n",
       "                                                                  ngram_range=(1,\n",
       "                                                                               3)),\n",
       "                                                  &#x27;location&#x27;),\n",
       "                                                 (&#x27;onehotencoder-2&#x27;,\n",
       "                                                  OneHotEncoder(min_frequency=0.1),\n",
       "                                                  [&#x27;city&#x27;]),\n",
       "                                                 (&#x27;standardscaler-1&#x27;,\n",
       "                                                  StandardScaler(), [&#x27;baths&#x27;]),\n",
       "                                                 (&#x27;standardscaler-2&#x27;,\n",
       "                                                  StandardScaler(),\n",
       "                                                  [&#x27;bedrooms&#x27;]),\n",
       "                                                 (&#x27;standardscaler-3&#x27;,\n",
       "                                                  StandardScaler(),\n",
       "                                                  [&#x27;Area_in_Marla&#x27;])])),\n",
       "                (&#x27;sgdregressor&#x27;, SGDRegressor(random_state=0))])</pre></div></div></div><div class=\"sk-serial\"><div class=\"sk-item sk-dashed-wrapped\"><div class=\"sk-label-container\"><div class=\"sk-label sk-toggleable\"><input class=\"sk-toggleable__control sk-hidden--visually\" id=\"sk-estimator-id-36\" type=\"checkbox\" ><label for=\"sk-estimator-id-36\" class=\"sk-toggleable__label sk-toggleable__label-arrow\">columntransformer: ColumnTransformer</label><div class=\"sk-toggleable__content\"><pre>ColumnTransformer(remainder=&#x27;passthrough&#x27;,\n",
       "                  transformers=[(&#x27;onehotencoder-1&#x27;,\n",
       "                                 OneHotEncoder(min_frequency=0.1),\n",
       "                                 [&#x27;property_type&#x27;]),\n",
       "                                (&#x27;tfidfvectorizer&#x27;,\n",
       "                                 TfidfVectorizer(max_df=0.5, min_df=5,\n",
       "                                                 ngram_range=(1, 3)),\n",
       "                                 &#x27;location&#x27;),\n",
       "                                (&#x27;onehotencoder-2&#x27;,\n",
       "                                 OneHotEncoder(min_frequency=0.1), [&#x27;city&#x27;]),\n",
       "                                (&#x27;standardscaler-1&#x27;, StandardScaler(),\n",
       "                                 [&#x27;baths&#x27;]),\n",
       "                                (&#x27;standardscaler-2&#x27;, StandardScaler(),\n",
       "                                 [&#x27;bedrooms&#x27;]),\n",
       "                                (&#x27;standardscaler-3&#x27;, StandardScaler(),\n",
       "                                 [&#x27;Area_in_Marla&#x27;])])</pre></div></div></div><div class=\"sk-parallel\"><div class=\"sk-parallel-item\"><div class=\"sk-item\"><div class=\"sk-label-container\"><div class=\"sk-label sk-toggleable\"><input class=\"sk-toggleable__control sk-hidden--visually\" id=\"sk-estimator-id-37\" type=\"checkbox\" ><label for=\"sk-estimator-id-37\" class=\"sk-toggleable__label sk-toggleable__label-arrow\">onehotencoder-1</label><div class=\"sk-toggleable__content\"><pre>[&#x27;property_type&#x27;]</pre></div></div></div><div class=\"sk-serial\"><div class=\"sk-item\"><div class=\"sk-estimator sk-toggleable\"><input class=\"sk-toggleable__control sk-hidden--visually\" id=\"sk-estimator-id-38\" type=\"checkbox\" ><label for=\"sk-estimator-id-38\" class=\"sk-toggleable__label sk-toggleable__label-arrow\">OneHotEncoder</label><div class=\"sk-toggleable__content\"><pre>OneHotEncoder(min_frequency=0.1)</pre></div></div></div></div></div></div><div class=\"sk-parallel-item\"><div class=\"sk-item\"><div class=\"sk-label-container\"><div class=\"sk-label sk-toggleable\"><input class=\"sk-toggleable__control sk-hidden--visually\" id=\"sk-estimator-id-39\" type=\"checkbox\" ><label for=\"sk-estimator-id-39\" class=\"sk-toggleable__label sk-toggleable__label-arrow\">tfidfvectorizer</label><div class=\"sk-toggleable__content\"><pre>location</pre></div></div></div><div class=\"sk-serial\"><div class=\"sk-item\"><div class=\"sk-estimator sk-toggleable\"><input class=\"sk-toggleable__control sk-hidden--visually\" id=\"sk-estimator-id-40\" type=\"checkbox\" ><label for=\"sk-estimator-id-40\" class=\"sk-toggleable__label sk-toggleable__label-arrow\">TfidfVectorizer</label><div class=\"sk-toggleable__content\"><pre>TfidfVectorizer(max_df=0.5, min_df=5, ngram_range=(1, 3))</pre></div></div></div></div></div></div><div class=\"sk-parallel-item\"><div class=\"sk-item\"><div class=\"sk-label-container\"><div class=\"sk-label sk-toggleable\"><input class=\"sk-toggleable__control sk-hidden--visually\" id=\"sk-estimator-id-41\" type=\"checkbox\" ><label for=\"sk-estimator-id-41\" class=\"sk-toggleable__label sk-toggleable__label-arrow\">onehotencoder-2</label><div class=\"sk-toggleable__content\"><pre>[&#x27;city&#x27;]</pre></div></div></div><div class=\"sk-serial\"><div class=\"sk-item\"><div class=\"sk-estimator sk-toggleable\"><input class=\"sk-toggleable__control sk-hidden--visually\" id=\"sk-estimator-id-42\" type=\"checkbox\" ><label for=\"sk-estimator-id-42\" class=\"sk-toggleable__label sk-toggleable__label-arrow\">OneHotEncoder</label><div class=\"sk-toggleable__content\"><pre>OneHotEncoder(min_frequency=0.1)</pre></div></div></div></div></div></div><div class=\"sk-parallel-item\"><div class=\"sk-item\"><div class=\"sk-label-container\"><div class=\"sk-label sk-toggleable\"><input class=\"sk-toggleable__control sk-hidden--visually\" id=\"sk-estimator-id-43\" type=\"checkbox\" ><label for=\"sk-estimator-id-43\" class=\"sk-toggleable__label sk-toggleable__label-arrow\">standardscaler-1</label><div class=\"sk-toggleable__content\"><pre>[&#x27;baths&#x27;]</pre></div></div></div><div class=\"sk-serial\"><div class=\"sk-item\"><div class=\"sk-estimator sk-toggleable\"><input class=\"sk-toggleable__control sk-hidden--visually\" id=\"sk-estimator-id-44\" type=\"checkbox\" ><label for=\"sk-estimator-id-44\" class=\"sk-toggleable__label sk-toggleable__label-arrow\">StandardScaler</label><div class=\"sk-toggleable__content\"><pre>StandardScaler()</pre></div></div></div></div></div></div><div class=\"sk-parallel-item\"><div class=\"sk-item\"><div class=\"sk-label-container\"><div class=\"sk-label sk-toggleable\"><input class=\"sk-toggleable__control sk-hidden--visually\" id=\"sk-estimator-id-45\" type=\"checkbox\" ><label for=\"sk-estimator-id-45\" class=\"sk-toggleable__label sk-toggleable__label-arrow\">standardscaler-2</label><div class=\"sk-toggleable__content\"><pre>[&#x27;bedrooms&#x27;]</pre></div></div></div><div class=\"sk-serial\"><div class=\"sk-item\"><div class=\"sk-estimator sk-toggleable\"><input class=\"sk-toggleable__control sk-hidden--visually\" id=\"sk-estimator-id-46\" type=\"checkbox\" ><label for=\"sk-estimator-id-46\" class=\"sk-toggleable__label sk-toggleable__label-arrow\">StandardScaler</label><div class=\"sk-toggleable__content\"><pre>StandardScaler()</pre></div></div></div></div></div></div><div class=\"sk-parallel-item\"><div class=\"sk-item\"><div class=\"sk-label-container\"><div class=\"sk-label sk-toggleable\"><input class=\"sk-toggleable__control sk-hidden--visually\" id=\"sk-estimator-id-47\" type=\"checkbox\" ><label for=\"sk-estimator-id-47\" class=\"sk-toggleable__label sk-toggleable__label-arrow\">standardscaler-3</label><div class=\"sk-toggleable__content\"><pre>[&#x27;Area_in_Marla&#x27;]</pre></div></div></div><div class=\"sk-serial\"><div class=\"sk-item\"><div class=\"sk-estimator sk-toggleable\"><input class=\"sk-toggleable__control sk-hidden--visually\" id=\"sk-estimator-id-48\" type=\"checkbox\" ><label for=\"sk-estimator-id-48\" class=\"sk-toggleable__label sk-toggleable__label-arrow\">StandardScaler</label><div class=\"sk-toggleable__content\"><pre>StandardScaler()</pre></div></div></div></div></div></div><div class=\"sk-parallel-item\"><div class=\"sk-item\"><div class=\"sk-label-container\"><div class=\"sk-label sk-toggleable\"><input class=\"sk-toggleable__control sk-hidden--visually\" id=\"sk-estimator-id-49\" type=\"checkbox\" ><label for=\"sk-estimator-id-49\" class=\"sk-toggleable__label sk-toggleable__label-arrow\">remainder</label><div class=\"sk-toggleable__content\"><pre></pre></div></div></div><div class=\"sk-serial\"><div class=\"sk-item\"><div class=\"sk-estimator sk-toggleable\"><input class=\"sk-toggleable__control sk-hidden--visually\" id=\"sk-estimator-id-50\" type=\"checkbox\" ><label for=\"sk-estimator-id-50\" class=\"sk-toggleable__label sk-toggleable__label-arrow\">passthrough</label><div class=\"sk-toggleable__content\"><pre>passthrough</pre></div></div></div></div></div></div></div></div><div class=\"sk-item\"><div class=\"sk-estimator sk-toggleable\"><input class=\"sk-toggleable__control sk-hidden--visually\" id=\"sk-estimator-id-51\" type=\"checkbox\" ><label for=\"sk-estimator-id-51\" class=\"sk-toggleable__label sk-toggleable__label-arrow\">SGDRegressor</label><div class=\"sk-toggleable__content\"><pre>SGDRegressor(random_state=0)</pre></div></div></div></div></div></div></div>"
      ],
      "text/plain": [
       "Pipeline(steps=[('columntransformer',\n",
       "                 ColumnTransformer(remainder='passthrough',\n",
       "                                   transformers=[('onehotencoder-1',\n",
       "                                                  OneHotEncoder(min_frequency=0.1),\n",
       "                                                  ['property_type']),\n",
       "                                                 ('tfidfvectorizer',\n",
       "                                                  TfidfVectorizer(max_df=0.5,\n",
       "                                                                  min_df=5,\n",
       "                                                                  ngram_range=(1,\n",
       "                                                                               3)),\n",
       "                                                  'location'),\n",
       "                                                 ('onehotencoder-2',\n",
       "                                                  OneHotEncoder(min_frequency=0.1),\n",
       "                                                  ['city']),\n",
       "                                                 ('standardscaler-1',\n",
       "                                                  StandardScaler(), ['baths']),\n",
       "                                                 ('standardscaler-2',\n",
       "                                                  StandardScaler(),\n",
       "                                                  ['bedrooms']),\n",
       "                                                 ('standardscaler-3',\n",
       "                                                  StandardScaler(),\n",
       "                                                  ['Area_in_Marla'])])),\n",
       "                ('sgdregressor', SGDRegressor(random_state=0))])"
      ]
     },
     "execution_count": 54,
     "metadata": {},
     "output_type": "execute_result"
    }
   ],
   "source": [
    "from sklearn.pipeline import make_pipeline\n",
    "from sklearn.compose import make_column_transformer\n",
    "from sklearn.preprocessing import OneHotEncoder\n",
    "from sklearn.feature_extraction.text import TfidfVectorizer as TfidfVec\n",
    "from sklearn.preprocessing import StandardScaler\n",
    "from sklearn.linear_model import SGDRegressor\n",
    "\n",
    "def create_pipeline():\n",
    "    return make_pipeline(\n",
    "        make_column_transformer(\n",
    "            # https://scikit-learn.org/stable/modules/preprocessing.html\n",
    "            (OneHotEncoder(min_frequency=0.1), [\"property_type\"]),\n",
    "            (TfidfVec(ngram_range=(1, 3), min_df=5, max_df=0.5), \"location\"),\n",
    "            (OneHotEncoder(min_frequency=0.1), [\"city\"]),\n",
    "            (StandardScaler(), [\"baths\"]),\n",
    "            (StandardScaler(), [\"bedrooms\"]),\n",
    "            (StandardScaler(), [\"Area_in_Marla\"]),\n",
    "            remainder=\"passthrough\",\n",
    "        ),\n",
    "        # https://scikit-learn.org/stable/tutorial/machine_learning_map/index.html\n",
    "        SGDRegressor(random_state=0),\n",
    "    )\n",
    "\n",
    "pipeline = create_pipeline()\n",
    "pipeline"
   ]
  },
  {
   "cell_type": "code",
   "execution_count": 55,
   "metadata": {},
   "outputs": [
    {
     "data": {
      "text/plain": [
       "({'sgdregressor__penalty': 'l2',\n",
       "  'sgdregressor__l1_ratio': 0.9,\n",
       "  'sgdregressor__alpha': 1e-05},\n",
       " '0.414')"
      ]
     },
     "execution_count": 55,
     "metadata": {},
     "output_type": "execute_result"
    }
   ],
   "source": [
    "from sklearn.model_selection import RandomizedSearchCV\n",
    "\n",
    "import warnings\n",
    "warnings.filterwarnings(\"ignore\")\n",
    "\n",
    "params = dict(\n",
    "    sgdregressor__penalty=[\"l2\", \"l1\", \"elasticnet\"],\n",
    "    sgdregressor__alpha=[0.0001, 0.001, 0.00001], \n",
    "    sgdregressor__l1_ratio=[0.1, 0.5, 0.9],\n",
    ")\n",
    "\n",
    "# https://scikit-learn.org/stable/modules/grid_search.html\n",
    "search = RandomizedSearchCV(pipeline, params, n_iter=10, random_state=0)\n",
    "search.fit(train_data[features], train_data[label])\n",
    "search.best_params_, f\"{search.best_score_:.3f}\""
   ]
  },
  {
   "cell_type": "code",
   "execution_count": 56,
   "metadata": {},
   "outputs": [
    {
     "data": {
      "text/plain": [
       "1633"
      ]
     },
     "execution_count": 56,
     "metadata": {},
     "output_type": "execute_result"
    }
   ],
   "source": [
    "search.best_estimator_.steps[-1][1].n_features_in_"
   ]
  },
  {
   "cell_type": "code",
   "execution_count": 57,
   "metadata": {},
   "outputs": [
    {
     "data": {
      "text/plain": [
       "city             0.173401\n",
       "baths            0.135246\n",
       "location         0.119826\n",
       "property_type    0.064468\n",
       "bedrooms         0.046681\n",
       "Area_in_Marla    0.001225\n",
       "dtype: float64"
      ]
     },
     "execution_count": 57,
     "metadata": {},
     "output_type": "execute_result"
    }
   ],
   "source": [
    "from sklearn.inspection import permutation_importance as per_imp\n",
    "\n",
    "imps = per_imp(search.best_estimator_, valid_data[features], valid_data[label], random_state=0)\n",
    "imps = pd.Series(imps.importances_mean, index=features).sort_values(ascending=False)\n",
    "imps"
   ]
  },
  {
   "cell_type": "code",
   "execution_count": 58,
   "metadata": {},
   "outputs": [
    {
     "data": {
      "text/html": [
       "<div>\n",
       "<style scoped>\n",
       "    .dataframe tbody tr th:only-of-type {\n",
       "        vertical-align: middle;\n",
       "    }\n",
       "\n",
       "    .dataframe tbody tr th {\n",
       "        vertical-align: top;\n",
       "    }\n",
       "\n",
       "    .dataframe thead th {\n",
       "        text-align: right;\n",
       "    }\n",
       "</style>\n",
       "<table border=\"1\" class=\"dataframe\">\n",
       "  <thead>\n",
       "    <tr style=\"text-align: right;\">\n",
       "      <th></th>\n",
       "      <th>property_type</th>\n",
       "      <th>price</th>\n",
       "      <th>location</th>\n",
       "      <th>city</th>\n",
       "      <th>baths</th>\n",
       "      <th>purpose</th>\n",
       "      <th>bedrooms</th>\n",
       "      <th>Area_in_Marla</th>\n",
       "    </tr>\n",
       "  </thead>\n",
       "  <tbody>\n",
       "    <tr>\n",
       "      <th>43357</th>\n",
       "      <td>Flat</td>\n",
       "      <td>2000000.0</td>\n",
       "      <td>Johar Town</td>\n",
       "      <td>Lahore</td>\n",
       "      <td>1</td>\n",
       "      <td>For Sale</td>\n",
       "      <td>1</td>\n",
       "      <td>1.2</td>\n",
       "    </tr>\n",
       "    <tr>\n",
       "      <th>26563</th>\n",
       "      <td>House</td>\n",
       "      <td>15000000.0</td>\n",
       "      <td>Satiana Road</td>\n",
       "      <td>Faisalabad</td>\n",
       "      <td>6</td>\n",
       "      <td>For Sale</td>\n",
       "      <td>5</td>\n",
       "      <td>10.0</td>\n",
       "    </tr>\n",
       "    <tr>\n",
       "      <th>135667</th>\n",
       "      <td>House</td>\n",
       "      <td>65000.0</td>\n",
       "      <td>I-10</td>\n",
       "      <td>Islamabad</td>\n",
       "      <td>3</td>\n",
       "      <td>For Rent</td>\n",
       "      <td>4</td>\n",
       "      <td>6.7</td>\n",
       "    </tr>\n",
       "    <tr>\n",
       "      <th>24305</th>\n",
       "      <td>Flat</td>\n",
       "      <td>16500000.0</td>\n",
       "      <td>Hill Park</td>\n",
       "      <td>Karachi</td>\n",
       "      <td>3</td>\n",
       "      <td>For Sale</td>\n",
       "      <td>2</td>\n",
       "      <td>6.4</td>\n",
       "    </tr>\n",
       "    <tr>\n",
       "      <th>54829</th>\n",
       "      <td>Flat</td>\n",
       "      <td>10000000.0</td>\n",
       "      <td>DHA Defence</td>\n",
       "      <td>Karachi</td>\n",
       "      <td>2</td>\n",
       "      <td>For Sale</td>\n",
       "      <td>2</td>\n",
       "      <td>4.2</td>\n",
       "    </tr>\n",
       "  </tbody>\n",
       "</table>\n",
       "</div>"
      ],
      "text/plain": [
       "       property_type       price      location        city  baths   purpose  \\\n",
       "43357           Flat   2000000.0    Johar Town      Lahore      1  For Sale   \n",
       "26563          House  15000000.0  Satiana Road  Faisalabad      6  For Sale   \n",
       "135667         House     65000.0          I-10   Islamabad      3  For Rent   \n",
       "24305           Flat  16500000.0     Hill Park     Karachi      3  For Sale   \n",
       "54829           Flat  10000000.0   DHA Defence     Karachi      2  For Sale   \n",
       "\n",
       "        bedrooms  Area_in_Marla  \n",
       "43357          1            1.2  \n",
       "26563          5           10.0  \n",
       "135667         4            6.7  \n",
       "24305          2            6.4  \n",
       "54829          2            4.2  "
      ]
     },
     "execution_count": 58,
     "metadata": {},
     "output_type": "execute_result"
    }
   ],
   "source": [
    "samples = valid_data.sample(5, random_state=0)\n",
    "samples[label] = label_tfm.inverse_transform(samples[label].values.reshape(-1, 1))\n",
    "samples"
   ]
  },
  {
   "cell_type": "code",
   "execution_count": 59,
   "metadata": {},
   "outputs": [
    {
     "data": {
      "text/plain": [
       "array([[ 6210048.68308893],\n",
       "       [13668526.23791179],\n",
       "       [ 6569066.43784819],\n",
       "       [ 4962762.0816487 ],\n",
       "       [ 6987043.71545895]])"
      ]
     },
     "execution_count": 59,
     "metadata": {},
     "output_type": "execute_result"
    }
   ],
   "source": [
    "predicted = search.best_estimator_.predict(samples)\n",
    "predicted = label_tfm.inverse_transform(predicted.reshape(-1, 1))\n",
    "predicted"
   ]
  },
  {
   "cell_type": "code",
   "execution_count": 65,
   "metadata": {},
   "outputs": [
    {
     "data": {
      "text/plain": [
       "22986707.870073874"
      ]
     },
     "execution_count": 65,
     "metadata": {},
     "output_type": "execute_result"
    }
   ],
   "source": [
    "sample = {\n",
    "    \"city\": \"Lahore\",\n",
    "    \"location\": \"DHA Defence\",\n",
    "    \"property_type\": \"House\",\n",
    "    \"baths\": 5,\n",
    "    \"bedrooms\": 5,\n",
    "    \"Area_in_Marla\": 20.0,\n",
    "}\n",
    "\n",
    "sample = pd.DataFrame([sample])\n",
    "predicted = search.best_estimator_.predict(sample)\n",
    "label_tfm.inverse_transform([predicted])[0][0]"
   ]
  },
  {
   "cell_type": "code",
   "execution_count": 66,
   "metadata": {},
   "outputs": [
    {
     "data": {
      "text/plain": [
       "21173960.51126247"
      ]
     },
     "execution_count": 66,
     "metadata": {},
     "output_type": "execute_result"
    }
   ],
   "source": [
    "sample = {\n",
    "    \"city\": \"Lahore\",\n",
    "    \"location\": \"DHA Defense\",\n",
    "    \"property_type\": \"House\",\n",
    "    \"baths\": 5,\n",
    "    \"bedrooms\": 5,\n",
    "    \"Area_in_Marla\": 20.0,\n",
    "}\n",
    "\n",
    "sample = pd.DataFrame([sample])\n",
    "predicted = search.best_estimator_.predict(sample)\n",
    "label_tfm.inverse_transform([predicted])[0][0]"
   ]
  },
  {
   "cell_type": "code",
   "execution_count": 62,
   "metadata": {},
   "outputs": [
    {
     "data": {
      "text/plain": [
       "array([0.40794698, 0.41389821, 0.42385614, 0.41750888, 0.40830244])"
      ]
     },
     "execution_count": 62,
     "metadata": {},
     "output_type": "execute_result"
    }
   ],
   "source": [
    "from sklearn.model_selection import cross_val_score\n",
    "\n",
    "pipeline = create_pipeline()\n",
    "pipeline.set_params(**search.best_params_)\n",
    "\n",
    "# https://scikit-learn.org/stable/modules/cross_validation.html\n",
    "scores = cross_val_score(pipeline, train_data[features], train_data[label], cv=5)\n",
    "scores"
   ]
  },
  {
   "cell_type": "code",
   "execution_count": 63,
   "metadata": {},
   "outputs": [
    {
     "name": "stdout",
     "output_type": "stream",
     "text": [
      "0.414\n"
     ]
    }
   ],
   "source": [
    "score = scores.mean()\n",
    "print(f\"{score:.3f}\")"
   ]
  },
  {
   "cell_type": "code",
   "execution_count": 64,
   "metadata": {},
   "outputs": [
    {
     "data": {
      "text/plain": [
       "(0.0, 1.0)"
      ]
     },
     "execution_count": 64,
     "metadata": {},
     "output_type": "execute_result"
    },
    {
     "data": {
      "image/png": "[encoded data removed]",
      "text/plain": [
       "<Figure size 800x600 with 1 Axes>"
      ]
     },
     "metadata": {},
     "output_type": "display_data"
    }
   ],
   "source": [
    "import matplotlib.pyplot as plt\n",
    "import numpy as np\n",
    "\n",
    "from sklearn.model_selection import LearningCurveDisplay, ShuffleSplit\n",
    "\n",
    "fig, ax = plt.subplots(figsize=(8, 6), sharey=True)\n",
    "\n",
    "pipeline = create_pipeline()\n",
    "pipeline.set_params(**search.best_params_)\n",
    "\n",
    "LearningCurveDisplay.from_estimator(\n",
    "    estimator=pipeline,\n",
    "    X=train_data[features],\n",
    "    y=train_data[label],\n",
    "    train_sizes=np.linspace(0.1, 1.0, 5),\n",
    "    cv=ShuffleSplit(n_splits=50, test_size=0.2, random_state=0),\n",
    "    score_type=\"both\",\n",
    "    line_kw={\"marker\": \"o\"},\n",
    "    std_display_style=\"fill_between\",\n",
    "    score_name=\"Accuracy\",\n",
    "    ax=ax,\n",
    ")\n",
    "\n",
    "handles, label = ax.get_legend_handles_labels()\n",
    "ax.legend(handles[:2], [\"Training Score\", \"Test Score\"])\n",
    "ax.set_ylim(ymin=0, ymax=1)"
   ]
  }
 ],
 "metadata": {
  "kernelspec": {
   "display_name": "venv",
   "language": "python",
   "name": "python3"
  },
  "language_info": {
   "codemirror_mode": {
    "name": "ipython",
    "version": 3
   },
   "file_extension": ".py",
   "mimetype": "text/x-python",
   "name": "python",
   "nbconvert_exporter": "python",
   "pygments_lexer": "ipython3",
   "version": "3.12.1"
  }
 },
 "nbformat": 4,
 "nbformat_minor": 2
}
